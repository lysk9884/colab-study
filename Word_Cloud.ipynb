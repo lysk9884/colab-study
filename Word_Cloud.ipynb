{
  "nbformat": 4,
  "nbformat_minor": 0,
  "metadata": {
    "colab": {
      "provenance": [],
      "authorship_tag": "ABX9TyOf6j3QKf7Uqm4VfewYqNMg",
      "include_colab_link": true
    },
    "kernelspec": {
      "name": "python3",
      "display_name": "Python 3"
    },
    "language_info": {
      "name": "python"
    }
  },
  "cells": [
    {
      "cell_type": "markdown",
      "metadata": {
        "id": "view-in-github",
        "colab_type": "text"
      },
      "source": [
        "<a href=\"https://colab.research.google.com/github/lysk9884/colab-study/blob/main/Word_Cloud.ipynb\" target=\"_parent\"><img src=\"https://colab.research.google.com/assets/colab-badge.svg\" alt=\"Open In Colab\"/></a>"
      ]
    },
    {
      "cell_type": "markdown",
      "source": [
        "1. 형태소 분석기를 설치합니다. (제일먼저 실행이 되어야함)\n",
        "\n",
        "\n",
        "* 모든 코드는 각 실행단계별로 하나씩 천천히 실행되어야합니다."
      ],
      "metadata": {
        "id": "GCbQkFfuXklI"
      }
    },
    {
      "cell_type": "code",
      "execution_count": 1,
      "metadata": {
        "colab": {
          "base_uri": "https://localhost:8080/"
        },
        "id": "8B3GD9tYXItx",
        "outputId": "97e89681-0927-45b0-d069-be3648d4316d",
        "collapsed": true
      },
      "outputs": [
        {
          "output_type": "stream",
          "name": "stdout",
          "text": [
            "Requirement already satisfied: konlpy in /usr/local/lib/python3.10/dist-packages (0.6.0)\n",
            "Requirement already satisfied: pandas in /usr/local/lib/python3.10/dist-packages (2.0.3)\n",
            "Requirement already satisfied: simplejson in /usr/local/lib/python3.10/dist-packages (3.19.2)\n",
            "Requirement already satisfied: langdetect in /usr/local/lib/python3.10/dist-packages (1.0.9)\n",
            "Requirement already satisfied: googletrans==4.0.0-rc1 in /usr/local/lib/python3.10/dist-packages (4.0.0rc1)\n",
            "Requirement already satisfied: wordcloud in /usr/local/lib/python3.10/dist-packages (1.9.3)\n",
            "Requirement already satisfied: mecab-python3 in /usr/local/lib/python3.10/dist-packages (1.0.9)\n",
            "Requirement already satisfied: nltk in /usr/local/lib/python3.10/dist-packages (3.8.1)\n",
            "Requirement already satisfied: httpx==0.13.3 in /usr/local/lib/python3.10/dist-packages (from googletrans==4.0.0-rc1) (0.13.3)\n",
            "Requirement already satisfied: certifi in /usr/local/lib/python3.10/dist-packages (from httpx==0.13.3->googletrans==4.0.0-rc1) (2024.6.2)\n",
            "Requirement already satisfied: hstspreload in /usr/local/lib/python3.10/dist-packages (from httpx==0.13.3->googletrans==4.0.0-rc1) (2024.7.1)\n",
            "Requirement already satisfied: sniffio in /usr/local/lib/python3.10/dist-packages (from httpx==0.13.3->googletrans==4.0.0-rc1) (1.3.1)\n",
            "Requirement already satisfied: chardet==3.* in /usr/local/lib/python3.10/dist-packages (from httpx==0.13.3->googletrans==4.0.0-rc1) (3.0.4)\n",
            "Requirement already satisfied: idna==2.* in /usr/local/lib/python3.10/dist-packages (from httpx==0.13.3->googletrans==4.0.0-rc1) (2.10)\n",
            "Requirement already satisfied: rfc3986<2,>=1.3 in /usr/local/lib/python3.10/dist-packages (from httpx==0.13.3->googletrans==4.0.0-rc1) (1.5.0)\n",
            "Requirement already satisfied: httpcore==0.9.* in /usr/local/lib/python3.10/dist-packages (from httpx==0.13.3->googletrans==4.0.0-rc1) (0.9.1)\n",
            "Requirement already satisfied: h11<0.10,>=0.8 in /usr/local/lib/python3.10/dist-packages (from httpcore==0.9.*->httpx==0.13.3->googletrans==4.0.0-rc1) (0.9.0)\n",
            "Requirement already satisfied: h2==3.* in /usr/local/lib/python3.10/dist-packages (from httpcore==0.9.*->httpx==0.13.3->googletrans==4.0.0-rc1) (3.2.0)\n",
            "Requirement already satisfied: hyperframe<6,>=5.2.0 in /usr/local/lib/python3.10/dist-packages (from h2==3.*->httpcore==0.9.*->httpx==0.13.3->googletrans==4.0.0-rc1) (5.2.0)\n",
            "Requirement already satisfied: hpack<4,>=3.0 in /usr/local/lib/python3.10/dist-packages (from h2==3.*->httpcore==0.9.*->httpx==0.13.3->googletrans==4.0.0-rc1) (3.0.0)\n",
            "Requirement already satisfied: JPype1>=0.7.0 in /usr/local/lib/python3.10/dist-packages (from konlpy) (1.5.0)\n",
            "Requirement already satisfied: lxml>=4.1.0 in /usr/local/lib/python3.10/dist-packages (from konlpy) (4.9.4)\n",
            "Requirement already satisfied: numpy>=1.6 in /usr/local/lib/python3.10/dist-packages (from konlpy) (1.25.2)\n",
            "Requirement already satisfied: python-dateutil>=2.8.2 in /usr/local/lib/python3.10/dist-packages (from pandas) (2.8.2)\n",
            "Requirement already satisfied: pytz>=2020.1 in /usr/local/lib/python3.10/dist-packages (from pandas) (2023.4)\n",
            "Requirement already satisfied: tzdata>=2022.1 in /usr/local/lib/python3.10/dist-packages (from pandas) (2024.1)\n",
            "Requirement already satisfied: six in /usr/local/lib/python3.10/dist-packages (from langdetect) (1.16.0)\n",
            "Requirement already satisfied: pillow in /usr/local/lib/python3.10/dist-packages (from wordcloud) (9.4.0)\n",
            "Requirement already satisfied: matplotlib in /usr/local/lib/python3.10/dist-packages (from wordcloud) (3.7.1)\n",
            "Requirement already satisfied: click in /usr/local/lib/python3.10/dist-packages (from nltk) (8.1.7)\n",
            "Requirement already satisfied: joblib in /usr/local/lib/python3.10/dist-packages (from nltk) (1.4.2)\n",
            "Requirement already satisfied: regex>=2021.8.3 in /usr/local/lib/python3.10/dist-packages (from nltk) (2024.5.15)\n",
            "Requirement already satisfied: tqdm in /usr/local/lib/python3.10/dist-packages (from nltk) (4.66.4)\n",
            "Requirement already satisfied: packaging in /usr/local/lib/python3.10/dist-packages (from JPype1>=0.7.0->konlpy) (24.1)\n",
            "Requirement already satisfied: contourpy>=1.0.1 in /usr/local/lib/python3.10/dist-packages (from matplotlib->wordcloud) (1.2.1)\n",
            "Requirement already satisfied: cycler>=0.10 in /usr/local/lib/python3.10/dist-packages (from matplotlib->wordcloud) (0.12.1)\n",
            "Requirement already satisfied: fonttools>=4.22.0 in /usr/local/lib/python3.10/dist-packages (from matplotlib->wordcloud) (4.53.0)\n",
            "Requirement already satisfied: kiwisolver>=1.0.1 in /usr/local/lib/python3.10/dist-packages (from matplotlib->wordcloud) (1.4.5)\n",
            "Requirement already satisfied: pyparsing>=2.3.1 in /usr/local/lib/python3.10/dist-packages (from matplotlib->wordcloud) (3.1.2)\n"
          ]
        }
      ],
      "source": [
        "!apt-get -qq update\n",
        "!apt-get -qq install fonts-nanum\n",
        "!apt-get -qq install fonts-noto-cjk\n",
        "!apt-get -qq install mecab libmecab-dev mecab-ipadic-utf8 mecab-ipadic\n",
        "\n",
        "\n",
        "!pip install konlpy pandas simplejson langdetect googletrans==4.0.0-rc1 wordcloud mecab-python3 nltk"
      ]
    },
    {
      "cell_type": "markdown",
      "source": [
        "2. 단어 분석을 수행할 파일을 업로드합니다 .csv 파일만 허용합니다."
      ],
      "metadata": {
        "id": "YIaOueJEXs_2"
      }
    },
    {
      "cell_type": "code",
      "source": [
        "from google.colab import files\n",
        "\n",
        "uploaded = files.upload()\n",
        "\n",
        "targetCsv = \"none\";\n",
        "\n",
        "for fn in uploaded.keys():\n",
        "    print('User Uploaded File \"{name}\" with length {length} bytes'.format(name=fn, length=len(uploaded[fn])));\n",
        "    targetCsv = fn;"
      ],
      "metadata": {
        "colab": {
          "base_uri": "https://localhost:8080/",
          "height": 95
        },
        "id": "1w0Tg8hkZLDc",
        "outputId": "5040092b-aff8-43ea-84d9-31b22bf570f3"
      },
      "execution_count": 2,
      "outputs": [
        {
          "output_type": "display_data",
          "data": {
            "text/plain": [
              "<IPython.core.display.HTML object>"
            ],
            "text/html": [
              "\n",
              "     <input type=\"file\" id=\"files-69a1fc15-ff32-42c0-9209-99a795a901be\" name=\"files[]\" multiple disabled\n",
              "        style=\"border:none\" />\n",
              "     <output id=\"result-69a1fc15-ff32-42c0-9209-99a795a901be\">\n",
              "      Upload widget is only available when the cell has been executed in the\n",
              "      current browser session. Please rerun this cell to enable.\n",
              "      </output>\n",
              "      <script>// Copyright 2017 Google LLC\n",
              "//\n",
              "// Licensed under the Apache License, Version 2.0 (the \"License\");\n",
              "// you may not use this file except in compliance with the License.\n",
              "// You may obtain a copy of the License at\n",
              "//\n",
              "//      http://www.apache.org/licenses/LICENSE-2.0\n",
              "//\n",
              "// Unless required by applicable law or agreed to in writing, software\n",
              "// distributed under the License is distributed on an \"AS IS\" BASIS,\n",
              "// WITHOUT WARRANTIES OR CONDITIONS OF ANY KIND, either express or implied.\n",
              "// See the License for the specific language governing permissions and\n",
              "// limitations under the License.\n",
              "\n",
              "/**\n",
              " * @fileoverview Helpers for google.colab Python module.\n",
              " */\n",
              "(function(scope) {\n",
              "function span(text, styleAttributes = {}) {\n",
              "  const element = document.createElement('span');\n",
              "  element.textContent = text;\n",
              "  for (const key of Object.keys(styleAttributes)) {\n",
              "    element.style[key] = styleAttributes[key];\n",
              "  }\n",
              "  return element;\n",
              "}\n",
              "\n",
              "// Max number of bytes which will be uploaded at a time.\n",
              "const MAX_PAYLOAD_SIZE = 100 * 1024;\n",
              "\n",
              "function _uploadFiles(inputId, outputId) {\n",
              "  const steps = uploadFilesStep(inputId, outputId);\n",
              "  const outputElement = document.getElementById(outputId);\n",
              "  // Cache steps on the outputElement to make it available for the next call\n",
              "  // to uploadFilesContinue from Python.\n",
              "  outputElement.steps = steps;\n",
              "\n",
              "  return _uploadFilesContinue(outputId);\n",
              "}\n",
              "\n",
              "// This is roughly an async generator (not supported in the browser yet),\n",
              "// where there are multiple asynchronous steps and the Python side is going\n",
              "// to poll for completion of each step.\n",
              "// This uses a Promise to block the python side on completion of each step,\n",
              "// then passes the result of the previous step as the input to the next step.\n",
              "function _uploadFilesContinue(outputId) {\n",
              "  const outputElement = document.getElementById(outputId);\n",
              "  const steps = outputElement.steps;\n",
              "\n",
              "  const next = steps.next(outputElement.lastPromiseValue);\n",
              "  return Promise.resolve(next.value.promise).then((value) => {\n",
              "    // Cache the last promise value to make it available to the next\n",
              "    // step of the generator.\n",
              "    outputElement.lastPromiseValue = value;\n",
              "    return next.value.response;\n",
              "  });\n",
              "}\n",
              "\n",
              "/**\n",
              " * Generator function which is called between each async step of the upload\n",
              " * process.\n",
              " * @param {string} inputId Element ID of the input file picker element.\n",
              " * @param {string} outputId Element ID of the output display.\n",
              " * @return {!Iterable<!Object>} Iterable of next steps.\n",
              " */\n",
              "function* uploadFilesStep(inputId, outputId) {\n",
              "  const inputElement = document.getElementById(inputId);\n",
              "  inputElement.disabled = false;\n",
              "\n",
              "  const outputElement = document.getElementById(outputId);\n",
              "  outputElement.innerHTML = '';\n",
              "\n",
              "  const pickedPromise = new Promise((resolve) => {\n",
              "    inputElement.addEventListener('change', (e) => {\n",
              "      resolve(e.target.files);\n",
              "    });\n",
              "  });\n",
              "\n",
              "  const cancel = document.createElement('button');\n",
              "  inputElement.parentElement.appendChild(cancel);\n",
              "  cancel.textContent = 'Cancel upload';\n",
              "  const cancelPromise = new Promise((resolve) => {\n",
              "    cancel.onclick = () => {\n",
              "      resolve(null);\n",
              "    };\n",
              "  });\n",
              "\n",
              "  // Wait for the user to pick the files.\n",
              "  const files = yield {\n",
              "    promise: Promise.race([pickedPromise, cancelPromise]),\n",
              "    response: {\n",
              "      action: 'starting',\n",
              "    }\n",
              "  };\n",
              "\n",
              "  cancel.remove();\n",
              "\n",
              "  // Disable the input element since further picks are not allowed.\n",
              "  inputElement.disabled = true;\n",
              "\n",
              "  if (!files) {\n",
              "    return {\n",
              "      response: {\n",
              "        action: 'complete',\n",
              "      }\n",
              "    };\n",
              "  }\n",
              "\n",
              "  for (const file of files) {\n",
              "    const li = document.createElement('li');\n",
              "    li.append(span(file.name, {fontWeight: 'bold'}));\n",
              "    li.append(span(\n",
              "        `(${file.type || 'n/a'}) - ${file.size} bytes, ` +\n",
              "        `last modified: ${\n",
              "            file.lastModifiedDate ? file.lastModifiedDate.toLocaleDateString() :\n",
              "                                    'n/a'} - `));\n",
              "    const percent = span('0% done');\n",
              "    li.appendChild(percent);\n",
              "\n",
              "    outputElement.appendChild(li);\n",
              "\n",
              "    const fileDataPromise = new Promise((resolve) => {\n",
              "      const reader = new FileReader();\n",
              "      reader.onload = (e) => {\n",
              "        resolve(e.target.result);\n",
              "      };\n",
              "      reader.readAsArrayBuffer(file);\n",
              "    });\n",
              "    // Wait for the data to be ready.\n",
              "    let fileData = yield {\n",
              "      promise: fileDataPromise,\n",
              "      response: {\n",
              "        action: 'continue',\n",
              "      }\n",
              "    };\n",
              "\n",
              "    // Use a chunked sending to avoid message size limits. See b/62115660.\n",
              "    let position = 0;\n",
              "    do {\n",
              "      const length = Math.min(fileData.byteLength - position, MAX_PAYLOAD_SIZE);\n",
              "      const chunk = new Uint8Array(fileData, position, length);\n",
              "      position += length;\n",
              "\n",
              "      const base64 = btoa(String.fromCharCode.apply(null, chunk));\n",
              "      yield {\n",
              "        response: {\n",
              "          action: 'append',\n",
              "          file: file.name,\n",
              "          data: base64,\n",
              "        },\n",
              "      };\n",
              "\n",
              "      let percentDone = fileData.byteLength === 0 ?\n",
              "          100 :\n",
              "          Math.round((position / fileData.byteLength) * 100);\n",
              "      percent.textContent = `${percentDone}% done`;\n",
              "\n",
              "    } while (position < fileData.byteLength);\n",
              "  }\n",
              "\n",
              "  // All done.\n",
              "  yield {\n",
              "    response: {\n",
              "      action: 'complete',\n",
              "    }\n",
              "  };\n",
              "}\n",
              "\n",
              "scope.google = scope.google || {};\n",
              "scope.google.colab = scope.google.colab || {};\n",
              "scope.google.colab._files = {\n",
              "  _uploadFiles,\n",
              "  _uploadFilesContinue,\n",
              "};\n",
              "})(self);\n",
              "</script> "
            ]
          },
          "metadata": {}
        },
        {
          "output_type": "stream",
          "name": "stdout",
          "text": [
            "Saving 리뷰시트.csv to 리뷰시트 (1).csv\n",
            "User Uploaded File \"리뷰시트 (1).csv\" with length 44035 bytes\n"
          ]
        }
      ]
    },
    {
      "cell_type": "markdown",
      "source": [
        "3. 업로드된 csv 파일을 읽습니다."
      ],
      "metadata": {
        "id": "TxSWP8UUZ1L8"
      }
    },
    {
      "cell_type": "code",
      "source": [
        "import pandas as pd\n",
        "import io\n",
        "\n",
        "df = pd.read_csv(io.StringIO(uploaded[targetCsv].decode('utf-8')))\n",
        "df = df.reset_index()"
      ],
      "metadata": {
        "id": "3u__89FqZ6pU"
      },
      "execution_count": 3,
      "outputs": []
    },
    {
      "cell_type": "markdown",
      "source": [
        "4. 형태소를 분리합니다."
      ],
      "metadata": {
        "id": "q4NAzLWTciQi"
      }
    },
    {
      "cell_type": "code",
      "source": [
        "import pandas as pd\n",
        "from konlpy.tag import Kkma\n",
        "from re import match, sub\n",
        "from langdetect import detect\n",
        "from googletrans import Translator\n",
        "import MeCab\n",
        "from collections import Counter\n",
        "from wordcloud import WordCloud\n",
        "import nltk\n",
        "from nltk.corpus import stopwords\n",
        "from nltk.tokenize import word_tokenize\n",
        "from nltk.tag import pos_tag\n",
        "\n",
        "# NLTK 데이터 다운로드\n",
        "nltk.download('punkt')\n",
        "nltk.download('averaged_perceptron_tagger')\n",
        "nltk.download('stopwords')\n",
        "\n",
        "kkma = Kkma()\n",
        "# MeCab 설정 파일 경로 지정\n",
        "mecab = MeCab.Tagger(\"-r /etc/mecabrc\")\n",
        "translator = Translator()\n",
        "\n",
        "korean_nouns = []\n",
        "japanese_nouns = []\n",
        "english_nouns = []\n",
        "\n",
        "def detect_language(text):\n",
        "    lang = detect(text)\n",
        "    if lang in ['ko', 'ja', 'en']:\n",
        "        return lang\n",
        "    return None\n",
        "\n",
        "def is_only_symbols(text):\n",
        "    return not bool(sub(r'[\\W_]+', '', text))\n",
        "\n",
        "def extract_nouns(text, lang):\n",
        "    if lang == 'ko':\n",
        "        return kkma.nouns(text)\n",
        "    elif lang == 'ja':\n",
        "        parsed = mecab.parse(text)\n",
        "        return [line.split('\\t')[0] for line in parsed.splitlines() if '\\t' in line and '名詞' in line.split('\\t')[-1]]\n",
        "    elif lang == 'en':\n",
        "        stop_words = set(stopwords.words('english'))\n",
        "        words = word_tokenize(text)\n",
        "        words = [word for word in words if word.isalpha()]\n",
        "        filtered_words = [word for word in words if word.lower() not in stop_words]\n",
        "        pos_tags = pos_tag(filtered_words)\n",
        "        return [word for word, pos in pos_tags if pos.startswith('NN')]\n",
        "    else:\n",
        "        return []\n",
        "\n",
        "for index, row in df.iterrows():\n",
        "    text = row[1]\n",
        "    if not text or is_only_symbols(text):\n",
        "        continue\n",
        "    lang = detect_language(text)\n",
        "    if not lang:\n",
        "        continue\n",
        "    ex_sent = [text]\n",
        "\n",
        "    for sent in ex_sent:\n",
        "        nouns = extract_nouns(sent, lang)\n",
        "        for noun in nouns:\n",
        "            if len(str(noun)) >= 2 and not match('^[0-9]', noun):\n",
        "                if lang == 'ko':\n",
        "                    korean_nouns.append(noun)\n",
        "                elif lang == 'ja':\n",
        "                    japanese_nouns.append(noun)\n",
        "                elif lang == 'en':\n",
        "                    english_nouns.append(noun)\n",
        "\n"
      ],
      "metadata": {
        "id": "g-01vEHKcikB",
        "colab": {
          "base_uri": "https://localhost:8080/"
        },
        "outputId": "37dfa18e-1af7-4116-d76a-014f8706f509"
      },
      "execution_count": null,
      "outputs": [
        {
          "output_type": "stream",
          "name": "stderr",
          "text": [
            "[nltk_data] Downloading package punkt to /root/nltk_data...\n",
            "[nltk_data]   Unzipping tokenizers/punkt.zip.\n",
            "[nltk_data] Downloading package averaged_perceptron_tagger to\n",
            "[nltk_data]     /root/nltk_data...\n",
            "[nltk_data]   Unzipping taggers/averaged_perceptron_tagger.zip.\n",
            "[nltk_data] Downloading package stopwords to /root/nltk_data...\n",
            "[nltk_data]   Unzipping corpora/stopwords.zip.\n"
          ]
        }
      ]
    },
    {
      "cell_type": "markdown",
      "source": [
        "5. 계산및 출력\n",
        "\n"
      ],
      "metadata": {
        "id": "mmkObF2ldEF0"
      }
    },
    {
      "cell_type": "code",
      "source": [
        "import matplotlib.pyplot as plt\n",
        "\n",
        "# 단어 빈도 계산\n",
        "korean_word_count = Counter(korean_nouns)\n",
        "japanese_word_count = Counter(japanese_nouns)\n",
        "english_word_count = Counter(english_nouns)\n",
        "\n",
        "# CSV 파일로 저장\n",
        "pd.DataFrame(korean_word_count.items(), columns=[\"단어\", \"수\"]).to_csv('korean_result.csv', index=False)\n",
        "pd.DataFrame(japanese_word_count.items(), columns=[\"단어\", \"수\"]).to_csv('japanese_result.csv', index=False)\n",
        "pd.DataFrame(english_word_count.items(), columns=[\"단어\", \"수\"]).to_csv('english_result.csv', index=False)\n",
        "\n",
        "# 설치한 폰트를 사용할 수 있도록 설정\n",
        "import matplotlib.font_manager as fm\n",
        "\n",
        "# 한글 폰트 설정\n",
        "fe_ko = fm.FontEntry(\n",
        "    fname='/usr/share/fonts/truetype/nanum/NanumGothic.ttf',\n",
        "    name='NanumGothic')\n",
        "fm.fontManager.ttflist.insert(0, fe_ko)\n",
        "\n",
        "# 일본어 폰트 설정\n",
        "fe_ja = fm.FontEntry(\n",
        "    fname='/usr/share/fonts/opentype/noto/NotoSansCJK-Regular.ttc',\n",
        "    name='NotoSansCJK')\n",
        "fm.fontManager.ttflist.insert(0, fe_ja)\n",
        "\n",
        "plt.rcParams.update({'font.size': 18})\n",
        "\n",
        "# 워드 클라우드 생성\n",
        "korean_wc = WordCloud(font_path='/usr/share/fonts/truetype/nanum/NanumGothic.ttf', relative_scaling=.3, background_color='white').generate_from_frequencies(korean_word_count)\n",
        "japanese_wc = WordCloud(font_path='/usr/share/fonts/opentype/noto/NotoSansCJK-Regular.ttc', relative_scaling=.3, background_color='white').generate_from_frequencies(japanese_word_count)\n",
        "english_wc = WordCloud(relative_scaling=.3, background_color='white').generate_from_frequencies(english_word_count)\n",
        "\n",
        "# 한국어 워드 클라우드 시각화\n",
        "plt.figure(figsize=(10, 5))\n",
        "plt.imshow(korean_wc, interpolation='bilinear')\n",
        "plt.axis('off')\n",
        "plt.title('Korean Word Cloud')\n",
        "plt.show()\n",
        "\n",
        "# 일본어 워드 클라우드 시각화\n",
        "plt.figure(figsize=(10, 5))\n",
        "plt.imshow(japanese_wc, interpolation='bilinear')\n",
        "plt.axis('off')\n",
        "plt.title('Japanese Word Cloud')\n",
        "plt.show()\n",
        "\n",
        "# 영어 워드 클라우드 시각화\n",
        "plt.figure(figsize=(10, 5))\n",
        "plt.imshow(english_wc, interpolation='bilinear')\n",
        "plt.axis('off')\n",
        "plt.title('English Word Cloud')\n",
        "plt.show()\n",
        "\n",
        "# CSV 파일 다운로드\n",
        "files.download('korean_result.csv')\n",
        "files.download('japanese_result.csv')\n",
        "files.download('english_result.csv')"
      ],
      "metadata": {
        "id": "mAZCGzZNdNJ9"
      },
      "execution_count": null,
      "outputs": []
    },
    {
      "cell_type": "markdown",
      "source": [],
      "metadata": {
        "id": "xG9cqM-YdQDn"
      }
    }
  ]
}